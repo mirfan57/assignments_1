{
 "cells": [
  {
   "cell_type": "markdown",
   "id": "c1674b83",
   "metadata": {},
   "source": [
    "### Assignment 10"
   ]
  },
  {
   "cell_type": "markdown",
   "id": "ea509f60",
   "metadata": {},
   "source": [
    "##### 1.\n",
    "Calling `shutil.copy(src, dest)` will copy the file at the path `src` to the folder at the path `dest` and returns the path to the newly created file. Both source and destination are strings. If destination is a filename, it will be used as the new name of the copied file.\n",
    "\n",
    "`shutil.copytree(src, dest)` will copy the folder at the path `src`, along with all of its files and subfolders, to the folder at the path `dest`. The source and destination parameters are both strings. The function returns a string of the path of the copied folder."
   ]
  },
  {
   "cell_type": "markdown",
   "id": "b439e614",
   "metadata": {},
   "source": [
    "##### 2.\n",
    "`os.rename()` function is used to rename files or directories and takes two arguments src and dest, src represents the name file/directory which we want to rename, whereas dest represents the new name of the file/directory."
   ]
  },
  {
   "cell_type": "markdown",
   "id": "65df0395",
   "metadata": {},
   "source": [
    "##### 3.\n",
    "- We use the shutil module to delete a folder and all of its contents. \n",
    "- `shutil.rmtree(path)` will remove the folder at path, and all files and folders it contains will also be deleted.\n",
    "- Therefore, os and shutil functions can be used for removing files and directories if you want your program to clear up disc space.\n",
    "\n",
    "Since Python’s built-in shutil.rmtree() function irreversibly deletes files and folders, it can be dangerous to use.\n",
    "\n",
    "- `send2trash` module having function `send2trash.send2trash()` will send folders and files to your computer's trash or recycle bin rather than permanently removing them, making it more safer to use than Python's standard delete functions.\n",
    "- Sending files to the recycle bin does allow for eventual recovery; but it does not permanently delete them, which frees up disc space."
   ]
  },
  {
   "cell_type": "markdown",
   "id": "d0a899bc",
   "metadata": {},
   "source": [
    "##### 4.\n",
    "`ZipFile` is a class of the zipfile module which needs to be imported. Then calling the function `zipfile.ZipFile()` will enable us to read and write to zip files. This ZipFile method is equivalent to the File objects' open() method."
   ]
  },
  {
   "cell_type": "markdown",
   "id": "0dbe456b",
   "metadata": {},
   "source": [
    "##### 5."
   ]
  },
  {
   "cell_type": "code",
   "execution_count": 1,
   "id": "f7c3d405",
   "metadata": {
    "scrolled": true
   },
   "outputs": [
    {
     "name": "stdout",
     "output_type": "stream",
     "text": [
      "C:\\Users\\Mohammad Irfan\\Random Data\\Random Source \n",
      "\n",
      " C:\\Users\\Mohammad Irfan\\Random Data\\Random Destination\n",
      "Folder name C:\\Users\\Mohammad Irfan\\Random Data\\Random Source\n",
      "\n",
      "Sub-Folders []\n",
      "\n",
      "Files ['adiabat.png', 'ans_key.pdf', 'appt_confirmation.pdf', 'biodata.doc', 'tvstick.pdf']\n",
      "\n",
      "C:\\Users\\Mohammad Irfan\\Random Data\\Random Source\\adiabat.png\n",
      "C:\\Users\\Mohammad Irfan\\Random Data\\Random Source\\ans_key.pdf\n",
      "C:\\Users\\Mohammad Irfan\\Random Data\\Random Source\\appt_confirmation.pdf\n",
      "C:\\Users\\Mohammad Irfan\\Random Data\\Random Source\\tvstick.pdf\n",
      "Files copied from C:\\Users\\Mohammad Irfan\\Random Data\\Random Source to C:\\Users\\Mohammad Irfan\\Random Data\\Random Destination successfully.\n"
     ]
    }
   ],
   "source": [
    "import os\n",
    "import shutil\n",
    "\n",
    "def searchcopy(source, destination, extension):\n",
    "    source = os.path.abspath(source)\n",
    "    destination = os.path.abspath(destination)\n",
    "    print(source,'\\n\\n', destination)\n",
    "    for folder, sub_folder, files in os.walk(source):\n",
    "        print(f'Folder name {folder}', end='\\n\\n')\n",
    "        print(f'Sub-Folders {sub_folder}', end='\\n\\n')\n",
    "        print(f'Files {files}', end='\\n\\n')\n",
    "\n",
    "\n",
    "        for filename in files:\n",
    "            #file_name, ext = filename.split('.')\n",
    "            file_name, ext = os.path.splitext(filename)\n",
    "            if ext in extension:\n",
    "                target_file = folder+os.path.sep+file_name+ext\n",
    "                #target_file = folder+os.path.sep+file_name+'.'+ext\n",
    "                print(target_file)\n",
    "                shutil.copy(target_file, destination)\n",
    "        print(f'Files copied from {source} to {destination} successfully.')\n",
    "    \n",
    "\n",
    "src = 'Random Source'\n",
    "dest = 'Random Destination'\n",
    "#extn = ['pdf', 'jpg', 'png']\n",
    "extn = ['.pdf', '.jpg', '.png']\n",
    "searchcopy(src, dest, extn)"
   ]
  }
 ],
 "metadata": {
  "kernelspec": {
   "display_name": "Python 3",
   "language": "python",
   "name": "python3"
  },
  "language_info": {
   "codemirror_mode": {
    "name": "ipython",
    "version": 3
   },
   "file_extension": ".py",
   "mimetype": "text/x-python",
   "name": "python",
   "nbconvert_exporter": "python",
   "pygments_lexer": "ipython3",
   "version": "3.8.8"
  }
 },
 "nbformat": 4,
 "nbformat_minor": 5
}
