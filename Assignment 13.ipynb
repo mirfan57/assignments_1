{
 "cells": [
  {
   "cell_type": "markdown",
   "id": "88e82f7d",
   "metadata": {},
   "source": [
    "### Assignment 13"
   ]
  },
  {
   "cell_type": "markdown",
   "id": "72981175",
   "metadata": {},
   "source": [
    "##### 1.\n",
    "The advantages of excel spreadsheets over csv spreadsheets are:\n",
    "\n",
    "Excel (xlsx) file formats are better for storing and analysing complex data.\n",
    "An Excel not only stores data but can also do operations on the data using macros, formulas etc\n",
    "CSV files are plain-text files, does not contain formatting, formulas, macros, etc. They are also known as flat files."
   ]
  },
  {
   "cell_type": "markdown",
   "id": "47777360",
   "metadata": {},
   "source": [
    "##### 2.\n",
    "We pass the file object to the `csv.reader()` in order to read the file, which returns an iterable reader object. Likewise, `csv.writer()` aslo accepts a fileobj to create writer objects."
   ]
  },
  {
   "cell_type": "code",
   "execution_count": 15,
   "id": "c834af0d",
   "metadata": {},
   "outputs": [],
   "source": [
    "import csv\n",
    "\n",
    "field = [\"ID\", \"Name\", \"Email\"]\n",
    "entries = [[\"C172\", \"Rishabh Rana\", \"ranarishabh@rediff.com\"],\n",
    "           [\"C184\", \"Rajat Dalak\", \"rajatd@yahoo.com\"],\n",
    "           [\"E175\", \"Gourav Babbarwal\", \"gouravbabb@hotmail.com\"]\n",
    "          ]\n",
    "\n",
    "with open('office.csv', 'w', newline=\"\") as off:\n",
    "    off_write = csv.writer(off, delimiter = '|')\n",
    "    off_write.writerow(field)\n",
    "    off_write.writerows(entries)"
   ]
  },
  {
   "cell_type": "code",
   "execution_count": 16,
   "id": "08d33e51",
   "metadata": {},
   "outputs": [
    {
     "name": "stdout",
     "output_type": "stream",
     "text": [
      "['ID', 'Name', 'Email']\n",
      "['C172', 'Rishabh Rana', 'ranarishabh@rediff.com']\n",
      "['C184', 'Rajat Dalak', 'rajatd@yahoo.com']\n",
      "['E175', 'Gourav Babbarwal', 'gouravbabb@hotmail.com']\n"
     ]
    }
   ],
   "source": [
    "with open('office.csv', 'r') as office:\n",
    "    csvReader = csv.reader(office, delimiter = '|')\n",
    "    for row in csvReader:\n",
    "        print(row)"
   ]
  },
  {
   "cell_type": "markdown",
   "id": "cd54892c",
   "metadata": {},
   "source": [
    "##### 3.\n",
    "For `csv.reader(iterable_file_object)`, the file objects need to be opened in read mode (mode='r'), whereas for `csv.writer(iterable_file_object)` the file objects need to be opened in write mode (mode='w')."
   ]
  },
  {
   "cell_type": "markdown",
   "id": "2b84ddb0",
   "metadata": {},
   "source": [
    "##### 4.\n",
    "There are two ways to take a list argument and write to CSV file, by using the `writerow()` and `writerows()` of the `csv.writer` class. The `writerow(fields)` function only outputs one row at a time, while by using the `writerows(rows)` function, numerous rows can be written at once."
   ]
  },
  {
   "cell_type": "code",
   "execution_count": 1,
   "id": "97b3fb56",
   "metadata": {},
   "outputs": [],
   "source": [
    "from csv import writer\n",
    "    \n",
    "fields = ['Rider', 'Brand', 'Year', 'engine'] \n",
    "    \n",
    "rows = [ ['Bagnaia', 'Ducati', '2012', 'GP-22'],     # rows of csv file \n",
    "         ['Vinales', 'Aprilia', '2016', 'RS-GP'], \n",
    "         ['Mir', 'Suzuki', '2012', 'GSX-RR'], \n",
    "         ['Binder', 'KTM', '2014', 'RC-16'], \n",
    "         ['Marquez', 'Honda', '2013', 'RC-213V'], \n",
    "         ['Fabio', 'Yamaha', '2017', 'YZR-M1'] ] \n",
    "    \n",
    "file = \"rider_record.csv\"\n",
    "    \n",
    "with open(file, 'w') as csvfile:                   # writing to csv file \n",
    "    csvWriter = writer(csvfile)                    # creating a csv writer object \n",
    "        \n",
    "    # writing the fields \n",
    "    csvWriter.writerow(fields) \n",
    "        \n",
    "    # writing the data rows \n",
    "    csvWriter.writerows(rows)"
   ]
  },
  {
   "cell_type": "markdown",
   "id": "3489f642",
   "metadata": {},
   "source": [
    "##### 5.\n",
    "Lets consider the example given below:\n",
    "\n",
    "Name, Course, Year\n",
    "Srijan, Data Science, 26\n",
    "Jack, Blockchain, 21\n",
    "\n",
    "As CSV stands for comma seperated value, the delimiter is `comma(',')`. Though, we can use any character as per our needs if required. Similarly line terminator comes at the end of line, by default it is a newline and can be changed accourding to our needs."
   ]
  },
  {
   "cell_type": "markdown",
   "id": "559d4053",
   "metadata": {},
   "source": [
    "##### 6.\n",
    "A valid JSON text may be parsed and transformed into a Python Dictionary using the `json.loads()` function. It is mostly used to deserialize native JSON data that is in the form of a string, byte, or byte array into a Python dictionary."
   ]
  },
  {
   "cell_type": "code",
   "execution_count": 3,
   "id": "32b4ad3b",
   "metadata": {},
   "outputs": [
    {
     "name": "stdout",
     "output_type": "stream",
     "text": [
      "Data-type of input details is <class 'str'>\n",
      "{'Name': 'Mohammad Irfan', 'Batch': 'FSDS Bootcamp', 'Company': 'ineuron', 'Year': 2022}\n",
      "Data-type of input after load function is <class 'dict'>\n"
     ]
    }
   ],
   "source": [
    "import json\n",
    "json_details ='''{\n",
    "    \"Name\": \"Mohammad Irfan\",\n",
    "    \"Batch\": \"FSDS Bootcamp\",\n",
    "    \"Company\": \"ineuron\",\n",
    "    \"Year\" : 2022\n",
    "}'''\n",
    "\n",
    "print(f'Data-type of input details is {type(json_details)}')\n",
    "my_details = json.loads(json_details)\n",
    "print(my_details)\n",
    "print(f'Data-type of input after load function is {type(my_details)}')"
   ]
  },
  {
   "cell_type": "markdown",
   "id": "b20a630d",
   "metadata": {},
   "source": [
    "##### 7.\n",
    "The quoted-string used in JSON contains the value in the key-value mapping inside it. It is comparable to Python's dictionary. A Python object is transformed into a json string using the `json.dumps()` method."
   ]
  },
  {
   "cell_type": "code",
   "execution_count": 4,
   "id": "15e43006",
   "metadata": {},
   "outputs": [
    {
     "name": "stdout",
     "output_type": "stream",
     "text": [
      "Data-type of input details is <class 'dict'>\n",
      "{\"Name\": \"Mohammad Irfan\", \"Batch\": \"FSDS Bootcamp\", \"Company\": \"ineuron\", \"Year\": 2022}\n",
      "Data-type of input after dumps function is <class 'str'>\n"
     ]
    }
   ],
   "source": [
    "import json\n",
    "in_details ={\"Name\": \"Mohammad Irfan\",\n",
    "               \"Batch\": \"FSDS Bootcamp\",\n",
    "               \"Company\": \"ineuron\",\n",
    "               \"Year\" : 2022\n",
    "              }\n",
    "\n",
    "print(f'Data-type of input details is {type(in_details)}')\n",
    "out_details = json.dumps(in_details)\n",
    "print(out_details)\n",
    "print(f'Data-type of input after dumps function is {type(out_details)}')"
   ]
  }
 ],
 "metadata": {
  "kernelspec": {
   "display_name": "Python 3",
   "language": "python",
   "name": "python3"
  },
  "language_info": {
   "codemirror_mode": {
    "name": "ipython",
    "version": 3
   },
   "file_extension": ".py",
   "mimetype": "text/x-python",
   "name": "python",
   "nbconvert_exporter": "python",
   "pygments_lexer": "ipython3",
   "version": "3.8.8"
  }
 },
 "nbformat": 4,
 "nbformat_minor": 5
}
