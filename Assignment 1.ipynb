{
 "cells": [
  {
   "cell_type": "markdown",
   "id": "3c643c3d",
   "metadata": {},
   "source": [
    "# Assignment_1 Solutions"
   ]
  },
  {
   "cell_type": "markdown",
   "id": "20d9bdff",
   "metadata": {},
   "source": [
    "#### 1. values: 'hello' , -87.8 , 6 and expressions: * , - , / , + "
   ]
  },
  {
   "cell_type": "markdown",
   "id": "54bdffde",
   "metadata": {},
   "source": [
    "#### 2. Variables are containers for storing data of different types. String is one of the data types you would store in a variable and is a collection of one or more characters usually put in single or double quotes. Example: y = \"ramesh\", here y is a variable and is assigned a string data type."
   ]
  },
  {
   "cell_type": "markdown",
   "id": "f1d35035",
   "metadata": {},
   "source": [
    "#### 3. Three different data types are:   \n",
    " - Text  \n",
    " - Numeric  \n",
    " - Sequence  \n",
    "  \n",
    "Text type comprises strings. They are sequence of unicode characters and can be enclosed in single or double quotes.  \n",
    "  \n",
    "Numeric type comprises integers, float, complex numbers. Integers contain positive or negative whole numbers, represented by int class. Float are real numbers with floating point representation. Integer and floating points are seperated by decimal points. 5 is an int and 5.0 is a float. Complex numbers are represented by complex class and written as (real part) + (imaginary part)j. Eg: 5 + 4j  \n",
    "  \n",
    "Sequence type comprises list, tuples. List is an ordered collection of data. Items in a list can be of different data types. We can use slicing operator [] to access an item or range of items in the list. They are mutable i.e. they can be modified later. Eg: list = [5,'python',6.7]. While tuples are also ordered collection of items just as a list. The only difference is that they are immutable i.e. they cannot be modified once created. We can use slicing operator to extract data but cannot change it. Eg: tuple = (4.0, 'jack', 6+2j).  \n",
    " "
   ]
  },
  {
   "cell_type": "markdown",
   "id": "4d4fa27f",
   "metadata": {},
   "source": [
    "#### 4. A combination of operators and operands is called an expression. For example, x - 5 is an expression where x and 5 are operands and '+' is the operator. Expressions need to be evaluated on the basis of precedence of its operators and produce a value. "
   ]
  },
  {
   "cell_type": "markdown",
   "id": "abe38c82",
   "metadata": {},
   "source": [
    "#### 5. An expression is a sequence or combination of values, variables, operators and function calls that always produces or returns a result value. A statement executes something (a coomand by a python interpreter) but may or may not return a result value.  \n",
    "  \n",
    "x + 3 is an expression and print x is a statement"
   ]
  },
  {
   "cell_type": "code",
   "execution_count": 6,
   "id": "40dc14e5",
   "metadata": {},
   "outputs": [
    {
     "data": {
      "text/plain": [
       "23"
      ]
     },
     "execution_count": 6,
     "metadata": {},
     "output_type": "execute_result"
    }
   ],
   "source": [
    "bacon = 22\n",
    "bacon + 1"
   ]
  },
  {
   "cell_type": "markdown",
   "id": "d4d042ed",
   "metadata": {},
   "source": [
    "#### 6. 23 is result of execution while bacon variable still contains 22."
   ]
  },
  {
   "cell_type": "code",
   "execution_count": 7,
   "id": "1c25d8e3",
   "metadata": {},
   "outputs": [
    {
     "data": {
      "text/plain": [
       "'spamspamspam'"
      ]
     },
     "execution_count": 7,
     "metadata": {},
     "output_type": "execute_result"
    }
   ],
   "source": [
    "'spam'+'spamspam'"
   ]
  },
  {
   "cell_type": "code",
   "execution_count": 8,
   "id": "66ad603a",
   "metadata": {},
   "outputs": [
    {
     "data": {
      "text/plain": [
       "'spamspamspam'"
      ]
     },
     "execution_count": 8,
     "metadata": {},
     "output_type": "execute_result"
    }
   ],
   "source": [
    "'spam'*3"
   ]
  },
  {
   "cell_type": "markdown",
   "id": "ddd7335a",
   "metadata": {},
   "source": [
    "#### 7. Both the terms give same value i.e. 'spamspamspam'."
   ]
  },
  {
   "cell_type": "markdown",
   "id": "6ec0b793",
   "metadata": {},
   "source": [
    "#### 8. We cannot start a variable name by an integer. We can begin by string name and then integer like eggs100 or e100."
   ]
  },
  {
   "cell_type": "markdown",
   "id": "642c1988",
   "metadata": {},
   "source": [
    "#### 9. integer: int(), floating-point number: float(), string: str()"
   ]
  },
  {
   "cell_type": "markdown",
   "id": "e607d50e",
   "metadata": {},
   "source": [
    "#### 10. Since 99 is an integer and cannot be concatenated with a string, hence it causes error. We can fix it by changing its data type to string by typecasting. "
   ]
  },
  {
   "cell_type": "code",
   "execution_count": 9,
   "id": "289c562e",
   "metadata": {},
   "outputs": [
    {
     "data": {
      "text/plain": [
       "'I have eaten 99 burritos'"
      ]
     },
     "execution_count": 9,
     "metadata": {},
     "output_type": "execute_result"
    }
   ],
   "source": [
    "'I have eaten '+str(99)+' burritos'"
   ]
  }
 ],
 "metadata": {
  "kernelspec": {
   "display_name": "Python 3",
   "language": "python",
   "name": "python3"
  },
  "language_info": {
   "codemirror_mode": {
    "name": "ipython",
    "version": 3
   },
   "file_extension": ".py",
   "mimetype": "text/x-python",
   "name": "python",
   "nbconvert_exporter": "python",
   "pygments_lexer": "ipython3",
   "version": "3.8.8"
  }
 },
 "nbformat": 4,
 "nbformat_minor": 5
}
