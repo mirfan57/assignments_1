{
 "cells": [
  {
   "cell_type": "markdown",
   "id": "ae65b39c",
   "metadata": {},
   "source": [
    "### Assignment 12"
   ]
  },
  {
   "cell_type": "markdown",
   "id": "82737d2e",
   "metadata": {},
   "source": [
    "##### 1.\n",
    "For `PdfFileReader()` file objects should be opened in `rb` or read binary mode, whereas `PdfFileWriter()` file objects should be opened in `wb` or write binary mode."
   ]
  },
  {
   "cell_type": "markdown",
   "id": "9d9cc102",
   "metadata": {},
   "source": [
    "##### 2.\n",
    "PdfFileReader class contains a method called `getPage(page_number)` to get a page object."
   ]
  },
  {
   "cell_type": "code",
   "execution_count": null,
   "id": "f1a837cb",
   "metadata": {},
   "outputs": [],
   "source": [
    "import PyPDF2\n",
    "pdfFileObj = open('test.pdf', 'rb')\n",
    "pdfReader = PyPDF2.PdfFileReader(pdfFileObj)\n",
    "pageObj = pdfReader.getPage(5)\n",
    "pageObj.extractText()"
   ]
  },
  {
   "cell_type": "markdown",
   "id": "2811bb80",
   "metadata": {},
   "source": [
    "##### 3.\n",
    "`numPages` method of PdfFileReader class will count the page numbers from the given PDF file."
   ]
  },
  {
   "cell_type": "code",
   "execution_count": null,
   "id": "7c92cca1",
   "metadata": {},
   "outputs": [],
   "source": [
    "import PyPDF2\n",
    "pdfFileObj = open('test.pdf', 'rb')\n",
    "pdfReader = PyPDF2.PdfFileReader(pdfFileObj)\n",
    "pdfReader.numPages"
   ]
  },
  {
   "cell_type": "markdown",
   "id": "acb5c75f",
   "metadata": {},
   "source": [
    "##### 4.\n",
    "If you are unaware that the PDF of a PdfFileReader object has been encrypted with the password swordfish, using the PdfFileReader Class, first read the PDF. To determine if a pdf is encrypted or not, the PdfFileReader class has a property called isEncrypted. If a pdf is encrypted, the method returns True, and vice versa. Use the decrypt() function offered by the PdfFileReader class if the pdf is encrypted before attempting to read its pages or contents; otherwise, PyPDF2 will raise the following error, PyPDF2.utils.PdfReadError: file has not been decrypted. "
   ]
  },
  {
   "cell_type": "markdown",
   "id": "3999e8aa",
   "metadata": {},
   "source": [
    "##### 5.\n",
    "The PyPDF2 Package provides 2 methods to rotate a page:\n",
    "\n",
    "- rotateClockWise() ➞ For Clockwise rotation\n",
    "- rotateCounterClockWise() ➞ For Counter Clockwise rotation"
   ]
  },
  {
   "cell_type": "markdown",
   "id": "c1f94141",
   "metadata": {},
   "source": [
    "##### 6.\n",
    "In Python-Docx, this structure is represented by three distinct data types. A Document object is the top level representation of the whole document. A collection of `Paragraph objects` representing the paragraphs in the document are contained in the Document object. Each of these Paragraph objects contains a list of one or more `Run objects`.\n",
    "\n",
    "The text in a Word document is more than just a string. It is styled in terms of font, size, colour, and other elements. These characteristics are put together to form a style in Word. `A sequence of characters that all share the same character formatting is referred to as a run object`. Every time the text style changes, a new Run object is required. "
   ]
  },
  {
   "cell_type": "markdown",
   "id": "65756703",
   "metadata": {},
   "source": [
    "##### 7.\n",
    "We can obtain a list of paragraph objects by iterating through the `doc.paragraphs` and printing the resultant text using `.text` as shown below."
   ]
  },
  {
   "cell_type": "code",
   "execution_count": null,
   "id": "e9b38258",
   "metadata": {},
   "outputs": [],
   "source": [
    "from docx import Document\n",
    "doc = Document(\"test.docx\") # gives path to our sample file test\n",
    "print(doc.paragraphs)             \n",
    "for i in doc.paragraphs:\n",
    "    print(i.text)                 # Prints the text in paragraph"
   ]
  },
  {
   "cell_type": "markdown",
   "id": "11e2f8bd",
   "metadata": {},
   "source": [
    "##### 8.\n",
    "Run object has bold, underline, italic, strike, and outline variables. The text in a word document is more than just a string. It has font, size, color, and other styling information associated with it.\n",
    "\n",
    "A style in Word is a collection of these attributes. A Run object is a contiguous run of text with the same style. A new Run object is needed whenever the text style changes."
   ]
  },
  {
   "cell_type": "markdown",
   "id": "13995722",
   "metadata": {},
   "source": [
    "##### 9.\n",
    "For bold variable, when `bold = True` it means that the style is set to bold while `bold = False` tells style is not set to bold and `bold  = None` implies that style is not applicable."
   ]
  },
  {
   "cell_type": "markdown",
   "id": "93915ab5",
   "metadata": {},
   "source": [
    "##### 10.\n",
    "We can create a document object for a new word document as shown:"
   ]
  },
  {
   "cell_type": "code",
   "execution_count": null,
   "id": "0f5eede3",
   "metadata": {},
   "outputs": [],
   "source": [
    "from docx import Document\n",
    "doc = Document()"
   ]
  },
  {
   "cell_type": "markdown",
   "id": "a526fe0e",
   "metadata": {},
   "source": [
    "##### 11."
   ]
  },
  {
   "cell_type": "code",
   "execution_count": null,
   "id": "9b4ff2c6",
   "metadata": {},
   "outputs": [],
   "source": [
    "from docx import Document\n",
    "doc = Document()\n",
    "doc.add_heading('Document heading goes here.')\n",
    "doc.add_paragraph('This is my first line.')\n",
    "doc.save('new.docx')"
   ]
  },
  {
   "cell_type": "markdown",
   "id": "ca49e0e7",
   "metadata": {},
   "source": [
    "##### 12.\n",
    "Using the level attribute in the add heading function, one may specify the levels for a heading in a word document. There are a total of 5 levels, from 0 to 4. Level 0 makes a headline with horizontal line underneath the text, whereas the heading level 1 is the main heading. Similarly, the other headings are sub-heading with their font-sizes in decreasing order."
   ]
  }
 ],
 "metadata": {
  "kernelspec": {
   "display_name": "Python 3",
   "language": "python",
   "name": "python3"
  },
  "language_info": {
   "codemirror_mode": {
    "name": "ipython",
    "version": 3
   },
   "file_extension": ".py",
   "mimetype": "text/x-python",
   "name": "python",
   "nbconvert_exporter": "python",
   "pygments_lexer": "ipython3",
   "version": "3.8.8"
  }
 },
 "nbformat": 4,
 "nbformat_minor": 5
}
