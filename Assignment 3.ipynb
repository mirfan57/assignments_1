{
 "cells": [
  {
   "cell_type": "markdown",
   "id": "ea5ee391",
   "metadata": {},
   "source": [
    "# Assignment 3 Solutions"
   ]
  },
  {
   "cell_type": "markdown",
   "id": "e9ed8489",
   "metadata": {},
   "source": [
    "#### 1. Functions enables reuse of code, reducing repeatability and easier to maintain, scale and most importantly update. "
   ]
  },
  {
   "cell_type": "markdown",
   "id": "a56ff984",
   "metadata": {},
   "source": [
    "#### 2. Code in a function runs when it is called."
   ]
  },
  {
   "cell_type": "markdown",
   "id": "a03389c0",
   "metadata": {},
   "source": [
    "#### 3. `def` statement creates a function."
   ]
  },
  {
   "cell_type": "markdown",
   "id": "66f077a5",
   "metadata": {},
   "source": [
    "#### 4. Function is defined by a def statement followed by parameters in parenthesis. It consists of code to be executed inside def clause. However, a function call will contain the same no. of arguments as parameters & moves the program execution into the function and it evaluates based upon the command written within its clause."
   ]
  },
  {
   "cell_type": "markdown",
   "id": "341e94b1",
   "metadata": {},
   "source": [
    "#### 5. There is one global scope as global variable is created in the main body of the python code and are available in global and local scope. Whereas, a variable created inside a function belongs to the local scope of that function and is available only inside that function. "
   ]
  },
  {
   "cell_type": "markdown",
   "id": "ec9b7464",
   "metadata": {},
   "source": [
    "#### 6. When the function call returns, the variable created inside it is no longer available and the local scope is destroyed."
   ]
  },
  {
   "cell_type": "markdown",
   "id": "4a994176",
   "metadata": {},
   "source": [
    "#### 7. A return value is a value which our function call evaluates to. Yes, return value can be in an expression."
   ]
  },
  {
   "cell_type": "markdown",
   "id": "a4fab580",
   "metadata": {},
   "source": [
    "#### 8. If there is no return statement of a function, then return value after the function call is nothing."
   ]
  },
  {
   "cell_type": "markdown",
   "id": "b52189ea",
   "metadata": {},
   "source": [
    "#### 9. We can use the `global` keyword before declaring the variable inside the function to make it accessible even outside the local scope."
   ]
  },
  {
   "cell_type": "markdown",
   "id": "be8a900b",
   "metadata": {},
   "source": [
    "#### 10. Data type of none is nonetype."
   ]
  },
  {
   "cell_type": "markdown",
   "id": "51b53a60",
   "metadata": {},
   "source": [
    "#### 11. The import statement imports a module named areallyourpetsnamederic."
   ]
  },
  {
   "cell_type": "markdown",
   "id": "19ae5a5b",
   "metadata": {},
   "source": [
    "#### 12. After importing spam, we can use spam.bacon() to call the bacon feature. "
   ]
  },
  {
   "cell_type": "markdown",
   "id": "6ccb9bb7",
   "metadata": {},
   "source": [
    "#### 13. We can place the code inside the try block and use an except block for handling the error."
   ]
  },
  {
   "cell_type": "code",
   "execution_count": 2,
   "id": "717f98b8",
   "metadata": {},
   "outputs": [
    {
     "name": "stdout",
     "output_type": "stream",
     "text": [
      "An error occured\n"
     ]
    }
   ],
   "source": [
    "try:\n",
    "    3+'hi'\n",
    "except:\n",
    "    print(\"An error occured\")    "
   ]
  },
  {
   "cell_type": "markdown",
   "id": "1b515616",
   "metadata": {},
   "source": [
    "#### 14. The code which one thinks might potentially cause an error are placed inside the `try` block. The code which we want to execute incase of an error in the `try` block goes in the `except` block."
   ]
  }
 ],
 "metadata": {
  "kernelspec": {
   "display_name": "Python 3",
   "language": "python",
   "name": "python3"
  },
  "language_info": {
   "codemirror_mode": {
    "name": "ipython",
    "version": 3
   },
   "file_extension": ".py",
   "mimetype": "text/x-python",
   "name": "python",
   "nbconvert_exporter": "python",
   "pygments_lexer": "ipython3",
   "version": "3.8.8"
  }
 },
 "nbformat": 4,
 "nbformat_minor": 5
}
