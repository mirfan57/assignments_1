{
 "cells": [
  {
   "cell_type": "markdown",
   "id": "a974832b",
   "metadata": {},
   "source": [
    "## Assignment 6"
   ]
  },
  {
   "cell_type": "markdown",
   "id": "696ec507",
   "metadata": {},
   "source": [
    "#### 1. Escape characters are a sequence of characters that, when used inside a string are converted into another character or series of characters. Escpae characters are formed by a backslash followed by a character or a set of characters. Eg: `\\\\`, `\\'`, `\\t`, `\\n`, etc."
   ]
  },
  {
   "cell_type": "code",
   "execution_count": 6,
   "id": "45e36cea",
   "metadata": {},
   "outputs": [
    {
     "name": "stdout",
     "output_type": "stream",
     "text": [
      "ineu \t ron\n"
     ]
    }
   ],
   "source": [
    "print('ineu \\t ron')"
   ]
  },
  {
   "cell_type": "code",
   "execution_count": 25,
   "id": "59922299",
   "metadata": {},
   "outputs": [
    {
     "name": "stdout",
     "output_type": "stream",
     "text": [
      "We are from 'city' market.\n"
     ]
    }
   ],
   "source": [
    "#txt = 'We are from 'city' market.'\n",
    "#print(txt)\n",
    "tst = 'We are from \\'city\\' market.'\n",
    "print(tst)"
   ]
  },
  {
   "cell_type": "code",
   "execution_count": 24,
   "id": "1ad588e0",
   "metadata": {},
   "outputs": [
    {
     "name": "stdout",
     "output_type": "stream",
     "text": [
      "who\\s this\n"
     ]
    }
   ],
   "source": [
    "print(\"who\\\\s this\")"
   ]
  },
  {
   "cell_type": "markdown",
   "id": "3fd94bf9",
   "metadata": {},
   "source": [
    "#### 2. Escape characters `\\n` and `\\t` stands for `newline` and `tab` respectively."
   ]
  },
  {
   "cell_type": "markdown",
   "id": "2483d624",
   "metadata": {},
   "source": [
    "#### 3. The way to include backslash characters in a string is by using `\\\\` character."
   ]
  },
  {
   "cell_type": "markdown",
   "id": "10435395",
   "metadata": {},
   "source": [
    "#### 4. The single quote character in the word `Howl's` of the string `\"Howl's Moving Castle\"` escaped the problem since the complete string is enclosed within double quotes. If it were enclosed in single quotes then the use of escape characters `\\'` would be required."
   ]
  },
  {
   "cell_type": "code",
   "execution_count": 26,
   "id": "84d54008",
   "metadata": {},
   "outputs": [
    {
     "name": "stdout",
     "output_type": "stream",
     "text": [
      "Howl's moving Castle\n",
      "Howl's moving Castle\n"
     ]
    }
   ],
   "source": [
    "s = \"Howl's moving Castle\"\n",
    "print(s)\n",
    "t = 'Howl\\'s moving Castle'\n",
    "print(t)"
   ]
  },
  {
   "cell_type": "markdown",
   "id": "bbc43a08",
   "metadata": {},
   "source": [
    "#### 5. Using multiline string we can write strings of newline without using n character."
   ]
  },
  {
   "cell_type": "code",
   "execution_count": 28,
   "id": "32a3fe97",
   "metadata": {},
   "outputs": [
    {
     "name": "stdout",
     "output_type": "stream",
     "text": [
      " Hey, what are\n",
      "you doing nowadays\n"
     ]
    }
   ],
   "source": [
    "s = ''' Hey, what are\n",
    "you doing nowadays'''\n",
    "print(s)"
   ]
  },
  {
   "cell_type": "markdown",
   "id": "70adf430",
   "metadata": {},
   "source": [
    "#### 6. \n",
    "- 'Hello, world!'[1] gives 'e'\n",
    "- 'Hello, world!'[0:5] gives 'Hello'\n",
    "- 'Hello, world!'[:5] gives 'Hello'\n",
    "- 'Hello, world!'[3:] gives 'lo, world!'"
   ]
  },
  {
   "cell_type": "markdown",
   "id": "74acd30c",
   "metadata": {},
   "source": [
    "#### 7.\n",
    "- 'Hello'.upper() gives 'HELLO'\n",
    "- 'Hello'.upper().isupper() gives True\n",
    "- 'Hello'.upper().lower() gives 'hello'"
   ]
  },
  {
   "cell_type": "code",
   "execution_count": 30,
   "id": "c55c5506",
   "metadata": {},
   "outputs": [
    {
     "data": {
      "text/plain": [
       "True"
      ]
     },
     "execution_count": 30,
     "metadata": {},
     "output_type": "execute_result"
    }
   ],
   "source": [
    "'Hello'.upper().isupper()"
   ]
  },
  {
   "cell_type": "markdown",
   "id": "63dba31d",
   "metadata": {},
   "source": [
    "#### 8. \n",
    "- 'Remember, remember, the fifth of July.'.split() gives ['Remember,','remember,','the','fifth','of','July.']\n",
    "- '-'.join('There can only one.'.split()) gives 'There-can-only-one.'"
   ]
  },
  {
   "cell_type": "code",
   "execution_count": 31,
   "id": "12d5d561",
   "metadata": {},
   "outputs": [
    {
     "data": {
      "text/plain": [
       "['Remember,', 'remember,', 'the', 'fifth', 'of', 'July.']"
      ]
     },
     "execution_count": 31,
     "metadata": {},
     "output_type": "execute_result"
    }
   ],
   "source": [
    "'Remember, remember, the fifth of July.'.split()"
   ]
  },
  {
   "cell_type": "code",
   "execution_count": 32,
   "id": "7d5b948a",
   "metadata": {},
   "outputs": [
    {
     "data": {
      "text/plain": [
       "'There-can-only-one.'"
      ]
     },
     "execution_count": 32,
     "metadata": {},
     "output_type": "execute_result"
    }
   ],
   "source": [
    "'-'.join('There can only one.'.split())"
   ]
  },
  {
   "cell_type": "markdown",
   "id": "bb007f09",
   "metadata": {},
   "source": [
    "#### 9. \n",
    "- Right-justifying using r.just()\n",
    "- Left-justifying using l.just()\n",
    "- Centering using center()"
   ]
  },
  {
   "cell_type": "markdown",
   "id": "d2e2482d",
   "metadata": {},
   "source": [
    "#### 10. The best way to remove whitespace characters from the start is lstrip() and from the end is rstrip()."
   ]
  }
 ],
 "metadata": {
  "kernelspec": {
   "display_name": "Python 3",
   "language": "python",
   "name": "python3"
  },
  "language_info": {
   "codemirror_mode": {
    "name": "ipython",
    "version": 3
   },
   "file_extension": ".py",
   "mimetype": "text/x-python",
   "name": "python",
   "nbconvert_exporter": "python",
   "pygments_lexer": "ipython3",
   "version": "3.8.8"
  }
 },
 "nbformat": 4,
 "nbformat_minor": 5
}
