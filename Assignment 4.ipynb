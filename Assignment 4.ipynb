{
 "cells": [
  {
   "cell_type": "markdown",
   "id": "d0c2fef7",
   "metadata": {},
   "source": [
    "## Assignment 4"
   ]
  },
  {
   "cell_type": "markdown",
   "id": "523be5c1",
   "metadata": {},
   "source": [
    "#### 1. `[]` represents an empty list or a list without any items."
   ]
  },
  {
   "cell_type": "markdown",
   "id": "00da4264",
   "metadata": {},
   "source": [
    "#### 2. "
   ]
  },
  {
   "cell_type": "code",
   "execution_count": 10,
   "id": "b9ab9928",
   "metadata": {},
   "outputs": [
    {
     "data": {
      "text/plain": [
       "[2, 4, 'hello', 8, 10]"
      ]
     },
     "execution_count": 10,
     "metadata": {},
     "output_type": "execute_result"
    }
   ],
   "source": [
    "spam = [2, 4, 6, 8, 10]\n",
    "spam[2] = 'hello'\n",
    "spam"
   ]
  },
  {
   "cell_type": "markdown",
   "id": "27746ce6",
   "metadata": {},
   "source": [
    "#### 3. "
   ]
  },
  {
   "cell_type": "code",
   "execution_count": 12,
   "id": "b85088d6",
   "metadata": {},
   "outputs": [
    {
     "data": {
      "text/plain": [
       "'d'"
      ]
     },
     "execution_count": 12,
     "metadata": {},
     "output_type": "execute_result"
    }
   ],
   "source": [
    "spam = ['a', 'b', 'c', 'd']\n",
    "spam[int(int('3'*2)/11)]        # spam[3]"
   ]
  },
  {
   "cell_type": "code",
   "execution_count": 8,
   "id": "e8569cec",
   "metadata": {},
   "outputs": [
    {
     "data": {
      "text/plain": [
       "3"
      ]
     },
     "execution_count": 8,
     "metadata": {},
     "output_type": "execute_result"
    }
   ],
   "source": [
    "int(int('3'*2)/11)   # '3'*2 = 33; int(33)/11 = 3"
   ]
  },
  {
   "cell_type": "markdown",
   "id": "3fdeea1a",
   "metadata": {},
   "source": [
    "#### 4. spam[-1] value is 'd'."
   ]
  },
  {
   "cell_type": "markdown",
   "id": "b34ffc13",
   "metadata": {},
   "source": [
    "#### 5. spam[:2] is ['a', 'b'] as it returns all elements from index 0 to 2 excluding 2."
   ]
  },
  {
   "cell_type": "code",
   "execution_count": 13,
   "id": "ee82c910",
   "metadata": {},
   "outputs": [
    {
     "data": {
      "text/plain": [
       "['a', 'b']"
      ]
     },
     "execution_count": 13,
     "metadata": {},
     "output_type": "execute_result"
    }
   ],
   "source": [
    "spam[:2]"
   ]
  },
  {
   "cell_type": "code",
   "execution_count": 16,
   "id": "ec873b29",
   "metadata": {},
   "outputs": [],
   "source": [
    "bacon = [3.14, 'cat', 11, 'cat', True]"
   ]
  },
  {
   "cell_type": "markdown",
   "id": "d75a3c96",
   "metadata": {},
   "source": [
    "#### 6."
   ]
  },
  {
   "cell_type": "code",
   "execution_count": 17,
   "id": "ca52570e",
   "metadata": {},
   "outputs": [
    {
     "data": {
      "text/plain": [
       "1"
      ]
     },
     "execution_count": 17,
     "metadata": {},
     "output_type": "execute_result"
    }
   ],
   "source": [
    "bacon.index('cat')"
   ]
  },
  {
   "cell_type": "markdown",
   "id": "c58ba253",
   "metadata": {},
   "source": [
    "#### 7. append() adds new elements at the end of the list."
   ]
  },
  {
   "cell_type": "code",
   "execution_count": 18,
   "id": "ab7ac626",
   "metadata": {},
   "outputs": [
    {
     "data": {
      "text/plain": [
       "[3.14, 'cat', 11, 'cat', True, 99]"
      ]
     },
     "execution_count": 18,
     "metadata": {},
     "output_type": "execute_result"
    }
   ],
   "source": [
    "bacon.append(99)\n",
    "bacon"
   ]
  },
  {
   "cell_type": "markdown",
   "id": "c5889f8b",
   "metadata": {},
   "source": [
    "#### 8. remove() method removes the first occurence of the specified item."
   ]
  },
  {
   "cell_type": "code",
   "execution_count": 19,
   "id": "4bb33aba",
   "metadata": {},
   "outputs": [
    {
     "data": {
      "text/plain": [
       "[3.14, 11, 'cat', True, 99]"
      ]
     },
     "execution_count": 19,
     "metadata": {},
     "output_type": "execute_result"
    }
   ],
   "source": [
    "bacon.remove('cat')\n",
    "bacon"
   ]
  },
  {
   "cell_type": "markdown",
   "id": "6325c7fc",
   "metadata": {},
   "source": [
    "#### 9. List concatenation operation is performed using `+` operator and list replication is done using `*` operator."
   ]
  },
  {
   "cell_type": "code",
   "execution_count": 21,
   "id": "2e827321",
   "metadata": {},
   "outputs": [
    {
     "name": "stdout",
     "output_type": "stream",
     "text": [
      "['cat', 'horse', 'dog', 'blue', 'red', 'white']\n",
      "['cat', 'horse', 'dog', 'cat', 'horse', 'dog', 'cat', 'horse', 'dog']\n"
     ]
    }
   ],
   "source": [
    "lst=['cat','horse','dog']\n",
    "lss=['blue','red','white']\n",
    "print(lst+lss)\n",
    "print(lst*3)"
   ]
  },
  {
   "cell_type": "markdown",
   "id": "97e56669",
   "metadata": {},
   "source": [
    "#### 10. `append()` method will add an element at the end of the given list, while `insert()` method will also take an index value as it's argument in order to add an element at the given index position in the list."
   ]
  },
  {
   "cell_type": "code",
   "execution_count": 20,
   "id": "bd012745",
   "metadata": {},
   "outputs": [
    {
     "name": "stdout",
     "output_type": "stream",
     "text": [
      "['ineuron', 34, False, [34, 8.2], 'data']\n",
      "['ineuron', 34, False, 'hi', [34, 8.2], 'data']\n"
     ]
    }
   ],
   "source": [
    "list=['ineuron',34,False,[34,8.2]]\n",
    "list.append('data')\n",
    "print(list)\n",
    "list.insert(3,'hi')\n",
    "print(list)"
   ]
  },
  {
   "cell_type": "markdown",
   "id": "34ca6b91",
   "metadata": {},
   "source": [
    "#### 11. Two methods for removing items from a list are:\n",
    "` remove()` and  `pop()`"
   ]
  },
  {
   "cell_type": "code",
   "execution_count": 22,
   "id": "11eae55e",
   "metadata": {},
   "outputs": [
    {
     "name": "stdout",
     "output_type": "stream",
     "text": [
      "['hi', 'neuron', 6.33]\n",
      "['hi', 'neuron']\n"
     ]
    }
   ],
   "source": [
    "lst=['hi','neuron',37,6.33]\n",
    "lst.remove(37)    # removes integer element 37.\n",
    "print(lst)\n",
    "lst.pop(1)       # removes element with index value 1.\n",
    "print(lst)"
   ]
  },
  {
   "cell_type": "markdown",
   "id": "17c142f7",
   "metadata": {},
   "source": [
    "#### 12. Both list and string values are iterable and can be used in for loops, both indexing and slicing operations can be performed on them. They can be concatenated and replicated using `+` and `*` operators respectively."
   ]
  },
  {
   "cell_type": "markdown",
   "id": "ceca9c17",
   "metadata": {},
   "source": [
    "#### 13. Difference between tuples and list are that list elements are changeable (`mutable`) while the elements of a tuple aren't (`immutable`). As a result, list has several built-in methods while tuples don't. Lists are represented using square brackets `[]`, while tuples use parentheses `()`. "
   ]
  },
  {
   "cell_type": "markdown",
   "id": "8bc45132",
   "metadata": {},
   "source": [
    "#### 14. As a single value of 42 inside bracket will be treated as integer. Hence, we need to give a comma after the element to make it a tuple. (42,)"
   ]
  },
  {
   "cell_type": "code",
   "execution_count": 31,
   "id": "4920b918",
   "metadata": {},
   "outputs": [
    {
     "name": "stdout",
     "output_type": "stream",
     "text": [
      "<class 'int'>\n",
      "<class 'tuple'>\n"
     ]
    }
   ],
   "source": [
    "t1=(42)\n",
    "print(type(t1))\n",
    "t2=(42,)\n",
    "print(type(t2))"
   ]
  },
  {
   "cell_type": "markdown",
   "id": "96769ec7",
   "metadata": {},
   "source": [
    "#### 15. To get a list value's tuple form we use tuple() function and to obtain the vice-versa we use list() function."
   ]
  },
  {
   "cell_type": "code",
   "execution_count": 4,
   "id": "87a8d703",
   "metadata": {},
   "outputs": [
    {
     "name": "stdout",
     "output_type": "stream",
     "text": [
      "(62, 'new', 7.4)\n",
      "['old', 5, 86]\n"
     ]
    }
   ],
   "source": [
    "lst=[62,'new',7.4]\n",
    "tup=('old',5,86)\n",
    "print(tuple(lst))\n",
    "print(list(tup))"
   ]
  },
  {
   "cell_type": "markdown",
   "id": "7b3b95eb",
   "metadata": {},
   "source": [
    "#### 16. They contain list value's references."
   ]
  },
  {
   "cell_type": "markdown",
   "id": "b75397ed",
   "metadata": {},
   "source": [
    "#### 17. `copy.copy()` returns a shallow copy of the list while `copy.deepcopy()` returns a deep copy of the list."
   ]
  },
  {
   "cell_type": "code",
   "execution_count": 11,
   "id": "17195a71",
   "metadata": {},
   "outputs": [
    {
     "name": "stdout",
     "output_type": "stream",
     "text": [
      "[34, 66, [77, [4, 3], 5.3], 5]\n",
      "[34, 66, [77, [4, 3], 5.3], 5]\n"
     ]
    }
   ],
   "source": [
    "import copy\n",
    "l=[34,66,[77,[4,3],5.3],5]\n",
    "l1=copy.copy(l)\n",
    "l2=copy.deepcopy(l)\n",
    "print(l1)\n",
    "print(l2)"
   ]
  }
 ],
 "metadata": {
  "kernelspec": {
   "display_name": "Python 3",
   "language": "python",
   "name": "python3"
  },
  "language_info": {
   "codemirror_mode": {
    "name": "ipython",
    "version": 3
   },
   "file_extension": ".py",
   "mimetype": "text/x-python",
   "name": "python",
   "nbconvert_exporter": "python",
   "pygments_lexer": "ipython3",
   "version": "3.8.8"
  }
 },
 "nbformat": 4,
 "nbformat_minor": 5
}
