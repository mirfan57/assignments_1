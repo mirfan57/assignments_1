{
 "cells": [
  {
   "cell_type": "markdown",
   "id": "cca904a8",
   "metadata": {},
   "source": [
    "1. The two values of Boolean data type are: True and False. We write them as first letter uppercase and remaining letters lowercase."
   ]
  },
  {
   "cell_type": "markdown",
   "id": "1491df1a",
   "metadata": {},
   "source": [
    "2. Three different types of Boolean operators are: or, and, not."
   ]
  },
  {
   "cell_type": "markdown",
   "id": "a91f6454",
   "metadata": {},
   "source": [
    "3. Truth table for 'or' operator:  \n",
    "   True or True = True  \n",
    "   True or False = True  \n",
    "   False or True = True  \n",
    "   False or False = False  \n",
    "   \n",
    "   Truth table for 'and' operator:  \n",
    "   True and True = True  \n",
    "   True and False = False  \n",
    "   False and True = False  \n",
    "   False and False = False  \n",
    "   \n",
    "   Truth table for 'not' operator:  \n",
    "   not(True) = False  \n",
    "   not(False) = True  "
   ]
  },
  {
   "cell_type": "markdown",
   "id": "61ea3716",
   "metadata": {},
   "source": [
    "4. \n",
    "    - (5>4) and (3==5) : True and False = False\n",
    "    - not(5>4) : False\n",
    "    - (5>4) or (3==5) : True or False = True\n",
    "    - not ((5>4) or (3==5)) : not(True or False) = not(True) = False\n",
    "    - (True and True) and (True == False) : True and False = False\n",
    "    - (not False) or (not True) : True or False = True"
   ]
  },
  {
   "cell_type": "markdown",
   "id": "ea91a5b6",
   "metadata": {},
   "source": [
    "5. Six comparison operators are:\n",
    "   \n",
    "   == , < , > , >= , <= , !="
   ]
  },
  {
   "cell_type": "markdown",
   "id": "c2fe163b",
   "metadata": {},
   "source": [
    "6. Equal to operator is given by '==' and is compares two values and result is a boolean value. While the assignment operator is given by '=' and assigns/stores a value in a variable."
   ]
  },
  {
   "cell_type": "code",
   "execution_count": 18,
   "id": "79937997",
   "metadata": {},
   "outputs": [
    {
     "data": {
      "text/plain": [
       "False"
      ]
     },
     "execution_count": 18,
     "metadata": {},
     "output_type": "execute_result"
    }
   ],
   "source": [
    "x = 2  #assigns or stores value 2 in variable x.\n",
    "\n",
    "x == 5  #compares the two values and returns a boolean outcome"
   ]
  },
  {
   "cell_type": "markdown",
   "id": "f6a4e723",
   "metadata": {},
   "source": [
    "7. Identify three blocks in this code:"
   ]
  },
  {
   "cell_type": "code",
   "execution_count": 19,
   "id": "cf25f07f",
   "metadata": {},
   "outputs": [
    {
     "name": "stdout",
     "output_type": "stream",
     "text": [
      "ham\n",
      "spam\n",
      "spam\n"
     ]
    }
   ],
   "source": [
    "spam = 0\n",
    "if spam == 10:\n",
    "    print('eggs')   # block 1\n",
    "\n",
    "if spam > 5:\n",
    "    print('bacon')  # block 2\n",
    "    \n",
    "else:\n",
    "    print('ham')   # block 3\n",
    "    print('spam')\n",
    "    print('spam')\n"
   ]
  },
  {
   "cell_type": "markdown",
   "id": "8c511aa2",
   "metadata": {},
   "source": [
    "8. Write code that prints Hello if 1 is stored in spam, prints Howdy if 2 is stored in spam, and prints Greetings! if anything else is stored in spam."
   ]
  },
  {
   "cell_type": "code",
   "execution_count": 20,
   "id": "4f80afb0",
   "metadata": {},
   "outputs": [
    {
     "name": "stdout",
     "output_type": "stream",
     "text": [
      "Enter a no. 3\n",
      "Greetings\n"
     ]
    }
   ],
   "source": [
    "spam = int(input('Enter a no. '))\n",
    "\n",
    "if spam == 1:\n",
    "    print('Hello')\n",
    "elif spam == 2:\n",
    "    print('Howdy')\n",
    "else:\n",
    "    print('Greetings')"
   ]
  },
  {
   "cell_type": "markdown",
   "id": "66d53798",
   "metadata": {},
   "source": [
    "9. We can press 'Ctrl + C' to stop a program stuck in an endless loop."
   ]
  },
  {
   "cell_type": "markdown",
   "id": "82d426ab",
   "metadata": {},
   "source": [
    "10. The 'break' statement will allow control to move out of loop skipping the execution of the remaining statements of the loop. The 'continue' statement allows control to go back to start of the loop. It just moves to the next iteration in the current loop."
   ]
  },
  {
   "cell_type": "markdown",
   "id": "ec6febf7",
   "metadata": {},
   "source": [
    "11. Differences between range(10), range(0, 10), and range(0, 10, 1) are: \n",
    "    range(10) gives integer numbers from 0 to 9.\n",
    "    range(0, 10) explicitly tells to start from 0.\n",
    "    range(0, 10, 1) explicitly tells to take step size of 1 in every iteration. "
   ]
  },
  {
   "cell_type": "markdown",
   "id": "7fa1276b",
   "metadata": {},
   "source": [
    "12. For loop to print numbers from 1 to 10"
   ]
  },
  {
   "cell_type": "code",
   "execution_count": 21,
   "id": "ffba487e",
   "metadata": {},
   "outputs": [
    {
     "name": "stdout",
     "output_type": "stream",
     "text": [
      "1\n",
      "2\n",
      "3\n",
      "4\n",
      "5\n",
      "6\n",
      "7\n",
      "8\n",
      "9\n",
      "10\n"
     ]
    }
   ],
   "source": [
    "n = 11\n",
    "for i in range(1,n):\n",
    "    print(i)"
   ]
  },
  {
   "cell_type": "markdown",
   "id": "c7ea6ed9",
   "metadata": {},
   "source": [
    "While loop to print numbers from 1 to 10"
   ]
  },
  {
   "cell_type": "code",
   "execution_count": 22,
   "id": "982b7eb1",
   "metadata": {},
   "outputs": [
    {
     "name": "stdout",
     "output_type": "stream",
     "text": [
      "1\n",
      "2\n",
      "3\n",
      "4\n",
      "5\n",
      "6\n",
      "7\n",
      "8\n",
      "9\n",
      "10\n"
     ]
    }
   ],
   "source": [
    "n = 10\n",
    "i = 1\n",
    "\n",
    "while i <= n:\n",
    "    print(i)\n",
    "    i +=1\n",
    "#else:\n",
    "#    print(n)"
   ]
  },
  {
   "cell_type": "markdown",
   "id": "3d50c555",
   "metadata": {},
   "source": [
    "13. spam.bacon()"
   ]
  }
 ],
 "metadata": {
  "kernelspec": {
   "display_name": "Python 3",
   "language": "python",
   "name": "python3"
  },
  "language_info": {
   "codemirror_mode": {
    "name": "ipython",
    "version": 3
   },
   "file_extension": ".py",
   "mimetype": "text/x-python",
   "name": "python",
   "nbconvert_exporter": "python",
   "pygments_lexer": "ipython3",
   "version": "3.8.8"
  }
 },
 "nbformat": 4,
 "nbformat_minor": 5
}
