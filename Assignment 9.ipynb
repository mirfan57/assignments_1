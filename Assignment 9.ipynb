{
 "cells": [
  {
   "cell_type": "markdown",
   "id": "d7aa1beb",
   "metadata": {},
   "source": [
    "## Assignment 9"
   ]
  },
  {
   "cell_type": "markdown",
   "id": "0dbf0ea3",
   "metadata": {},
   "source": [
    "##### 1. \n",
    "A relative path refers to a file location relative to the current directory. If you want to navigate to a file at location `C:/users/asus/ineuron/assignments/test.pdf` and your present directory is `C:/users/asus/ineuron/` , then relative path to `test.pdf` will be `assignments/test.pdf`.\n",
    "\n",
    "Absolute path = Present working directory + Relative path"
   ]
  },
  {
   "cell_type": "markdown",
   "id": "a89d6145",
   "metadata": {},
   "source": [
    "##### 2.\n",
    "The absolute path starts with `C:` in my Windows based operating system."
   ]
  },
  {
   "cell_type": "markdown",
   "id": "1f78da52",
   "metadata": {},
   "source": [
    "##### 3.\n",
    "`os.getcwd()` method is used in python to get the current working directory of the file. `os.chdir()` method is used to change the current working directory to specified path."
   ]
  },
  {
   "cell_type": "code",
   "execution_count": 8,
   "id": "fd5c288f",
   "metadata": {},
   "outputs": [
    {
     "name": "stdout",
     "output_type": "stream",
     "text": [
      "Current working directory is: C:\\Users\\Mohammad Irfan\n",
      "After changing to a specific path, our current directory is: C:\\Users\\Mohammad Irfan\\Desktop\\PYTHON\\Assignment\n"
     ]
    }
   ],
   "source": [
    "import os\n",
    "print('Current working directory is:', os.getcwd())\n",
    "os.chdir(\"C:/Users/Mohammad Irfan/Desktop/PYTHON/Assignment\")\n",
    "print(\"After changing to a specific path, our current directory is:\", os.getcwd())"
   ]
  },
  {
   "cell_type": "code",
   "execution_count": 5,
   "id": "96a7e709",
   "metadata": {},
   "outputs": [
    {
     "data": {
      "text/plain": [
       "'C:\\\\Users\\\\Mohammad Irfan\\\\Desktop\\\\PYTHON\\\\Assignment'"
      ]
     },
     "execution_count": 5,
     "metadata": {},
     "output_type": "execute_result"
    }
   ],
   "source": [
    "os.getcwd()"
   ]
  },
  {
   "cell_type": "code",
   "execution_count": 6,
   "id": "75d65144",
   "metadata": {},
   "outputs": [],
   "source": [
    "os.chdir(\"C:\\\\Users\\\\Mohammad Irfan\")"
   ]
  },
  {
   "cell_type": "markdown",
   "id": "3b0e2827",
   "metadata": {},
   "source": [
    "##### 4.\n",
    "The dot (.) represents the current directory whereas double dot (..) is used to refer to the parent directory of the current directory.\n",
    "\n",
    "If my absolute path is say: `C:/users/asus/ineuron/assignments/assg1.docx`. Then `.` represents the path `C:/users/asus/ineuron/assignments/assg1.docx` while `..` will represent the path `C:/users/asus/ineuron/assignments`"
   ]
  },
  {
   "cell_type": "markdown",
   "id": "4bdf59e5",
   "metadata": {},
   "source": [
    "##### 5.\n",
    "For `C:\\bacon\\eggs\\spam.txt`, the dir name is `C:\\bacon\\eggs` and the Base name is `spam.txt`."
   ]
  },
  {
   "cell_type": "code",
   "execution_count": 9,
   "id": "d5dbf422",
   "metadata": {},
   "outputs": [
    {
     "name": "stdout",
     "output_type": "stream",
     "text": [
      "C:\\bacon\\eggs\n",
      "spam.txt\n"
     ]
    }
   ],
   "source": [
    "import os\n",
    "path = r'C:\\bacon\\eggs\\spam.txt'\n",
    "print(os.path.dirname(path))\n",
    "print(os.path.basename(path))"
   ]
  },
  {
   "cell_type": "markdown",
   "id": "3e4d3e3e",
   "metadata": {},
   "source": [
    "##### 6.\n",
    "open() function usually uses filename and mode as the two arguments. Mode generally defines the way in which you want the file to open. 3 types of mode are:\n",
    "- read(\"r\") : Default value, opens a file for reading (error if file not present)\n",
    "- write (\"w\") : Opens the file to write, creates one if not exist. Overwritten if existing content present.\n",
    "- append(\"a\") : Opens the file to append data, creates one if not exist."
   ]
  },
  {
   "cell_type": "markdown",
   "id": "4c2f27e1",
   "metadata": {},
   "source": [
    "##### 7.\n",
    "If an existing file is opened in write mode, then the content present in it will be overwritten. "
   ]
  },
  {
   "cell_type": "markdown",
   "id": "fe19e0ec",
   "metadata": {},
   "source": [
    "##### 8.\n",
    "read() will read the entire file at once and treats each character differently meaning the iteration will happen for each character.\n",
    "readline() will only read a single line of the file, so iteration happens only for the first line of the file. We can also give a size paramter for a specific length of line."
   ]
  },
  {
   "cell_type": "markdown",
   "id": "5b5cf195",
   "metadata": {},
   "source": [
    "##### 9.\n",
    "A shelf value resembles a dictionary value, it has keys and values."
   ]
  }
 ],
 "metadata": {
  "kernelspec": {
   "display_name": "Python 3",
   "language": "python",
   "name": "python3"
  },
  "language_info": {
   "codemirror_mode": {
    "name": "ipython",
    "version": 3
   },
   "file_extension": ".py",
   "mimetype": "text/x-python",
   "name": "python",
   "nbconvert_exporter": "python",
   "pygments_lexer": "ipython3",
   "version": "3.8.8"
  }
 },
 "nbformat": 4,
 "nbformat_minor": 5
}
