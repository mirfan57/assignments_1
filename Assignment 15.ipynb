{
 "cells": [
  {
   "cell_type": "markdown",
   "id": "2e61539d",
   "metadata": {},
   "source": [
    "### Assignment 15"
   ]
  },
  {
   "cell_type": "markdown",
   "id": "90b86123",
   "metadata": {},
   "source": [
    "##### 1.\n",
    "To get the number of seconds in an hour, we must multiply no. of secs in a minute to no. of minutes in an hour."
   ]
  },
  {
   "cell_type": "code",
   "execution_count": 1,
   "id": "9995b64a",
   "metadata": {},
   "outputs": [
    {
     "name": "stdout",
     "output_type": "stream",
     "text": [
      "Number of seconds in an hour is 3600 s.\n"
     ]
    }
   ],
   "source": [
    "print(f'Number of seconds in an hour is {60*60} s.')"
   ]
  },
  {
   "cell_type": "markdown",
   "id": "806f67ae",
   "metadata": {},
   "source": [
    "##### 2."
   ]
  },
  {
   "cell_type": "code",
   "execution_count": 2,
   "id": "2a96c9f9",
   "metadata": {},
   "outputs": [
    {
     "name": "stdout",
     "output_type": "stream",
     "text": [
      "3600\n"
     ]
    }
   ],
   "source": [
    "seconds_per_hour = 60*60\n",
    "print(seconds_per_hour)"
   ]
  },
  {
   "cell_type": "markdown",
   "id": "0cc8bbf9",
   "metadata": {},
   "source": [
    "##### 3. \n",
    "Since, hours per day = 24"
   ]
  },
  {
   "cell_type": "code",
   "execution_count": 6,
   "id": "00b865f9",
   "metadata": {},
   "outputs": [
    {
     "name": "stdout",
     "output_type": "stream",
     "text": [
      "There are 86400 seconds in a day.\n"
     ]
    }
   ],
   "source": [
    "print(f'There are {seconds_per_hour * 24} seconds in a day.')"
   ]
  },
  {
   "cell_type": "markdown",
   "id": "5925e67b",
   "metadata": {},
   "source": [
    "##### 4. "
   ]
  },
  {
   "cell_type": "code",
   "execution_count": 7,
   "id": "690ed65a",
   "metadata": {},
   "outputs": [
    {
     "name": "stdout",
     "output_type": "stream",
     "text": [
      "86400\n"
     ]
    }
   ],
   "source": [
    "seconds_per_day = 24*60*60\n",
    "print(seconds_per_day)"
   ]
  },
  {
   "cell_type": "markdown",
   "id": "5691aabd",
   "metadata": {},
   "source": [
    "##### 5."
   ]
  },
  {
   "cell_type": "code",
   "execution_count": 8,
   "id": "f4dfed22",
   "metadata": {},
   "outputs": [
    {
     "name": "stdout",
     "output_type": "stream",
     "text": [
      "24.0\n"
     ]
    }
   ],
   "source": [
    "result = seconds_per_day/seconds_per_hour\n",
    "print(result)"
   ]
  },
  {
   "cell_type": "markdown",
   "id": "e01b2862",
   "metadata": {},
   "source": [
    "##### 6."
   ]
  },
  {
   "cell_type": "code",
   "execution_count": 9,
   "id": "4f013943",
   "metadata": {},
   "outputs": [
    {
     "name": "stdout",
     "output_type": "stream",
     "text": [
      "24 -> yes this values agree with the floating point value from the previous question\n"
     ]
    }
   ],
   "source": [
    "res = seconds_per_day//seconds_per_hour\n",
    "print(res, end='')\n",
    "print(' -> yes this values agree with the floating point value from the previous question')"
   ]
  },
  {
   "cell_type": "markdown",
   "id": "e6fa0baa",
   "metadata": {},
   "source": [
    "##### 7."
   ]
  },
  {
   "cell_type": "code",
   "execution_count": 36,
   "id": "e70c4b28",
   "metadata": {},
   "outputs": [
    {
     "name": "stdout",
     "output_type": "stream",
     "text": [
      "2\n",
      "3\n",
      "5\n",
      "7\n",
      "11\n",
      "13\n",
      "17\n",
      "19\n",
      "23\n",
      "29\n"
     ]
    }
   ],
   "source": [
    "def genPrimes():\n",
    "    for i in range(2,100):\n",
    "        n = 0\n",
    "        for j in range(1,i):\n",
    "            fact = i % j\n",
    "            if fact ==0 :\n",
    "                n += 1\n",
    "        if n < 2:\n",
    "            yield i\n",
    "                \n",
    "output = genPrimes()\n",
    "for j in range(10):\n",
    "    print(next(output))"
   ]
  }
 ],
 "metadata": {
  "kernelspec": {
   "display_name": "Python 3",
   "language": "python",
   "name": "python3"
  },
  "language_info": {
   "codemirror_mode": {
    "name": "ipython",
    "version": 3
   },
   "file_extension": ".py",
   "mimetype": "text/x-python",
   "name": "python",
   "nbconvert_exporter": "python",
   "pygments_lexer": "ipython3",
   "version": "3.8.8"
  }
 },
 "nbformat": 4,
 "nbformat_minor": 5
}
