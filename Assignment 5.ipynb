{
 "cells": [
  {
   "cell_type": "markdown",
   "id": "abf184ff",
   "metadata": {},
   "source": [
    "## Assignment 5"
   ]
  },
  {
   "cell_type": "markdown",
   "id": "7835f5ab",
   "metadata": {},
   "source": [
    "#### 1. Empty dictionary's code is: d = {} or d = dict()"
   ]
  },
  {
   "cell_type": "markdown",
   "id": "d999cdc2",
   "metadata": {},
   "source": [
    "#### 2. {'foo': 42}"
   ]
  },
  {
   "cell_type": "code",
   "execution_count": 1,
   "id": "22846467",
   "metadata": {},
   "outputs": [
    {
     "data": {
      "text/plain": [
       "{'foo': 42}"
      ]
     },
     "execution_count": 1,
     "metadata": {},
     "output_type": "execute_result"
    }
   ],
   "source": [
    "d={'foo':42}       # key = 'foo' & value = 42\n",
    "d"
   ]
  },
  {
   "cell_type": "markdown",
   "id": "488c03bc",
   "metadata": {},
   "source": [
    "#### 3. Most significant distinction between a dictionary and a list is firstly the representation symbol of list `[]` and dictionary`{}`. Individual list elements are placed inside `[]` seperated by commas while dictionary consists of elements in key:value pairs. Lists are ordered while dictionary's have random order. \n"
   ]
  },
  {
   "cell_type": "markdown",
   "id": "bd4f8e27",
   "metadata": {},
   "source": [
    "#### 4.  We get a `KeyError: 'foo'`"
   ]
  },
  {
   "cell_type": "code",
   "execution_count": 1,
   "id": "ac20c42a",
   "metadata": {},
   "outputs": [
    {
     "ename": "KeyError",
     "evalue": "'foo'",
     "output_type": "error",
     "traceback": [
      "\u001b[1;31m---------------------------------------------------------------------------\u001b[0m",
      "\u001b[1;31mKeyError\u001b[0m                                  Traceback (most recent call last)",
      "\u001b[1;32m<ipython-input-1-cea1cd791e68>\u001b[0m in \u001b[0;36m<module>\u001b[1;34m\u001b[0m\n\u001b[0;32m      1\u001b[0m \u001b[0mspam\u001b[0m \u001b[1;33m=\u001b[0m \u001b[1;33m{\u001b[0m\u001b[1;34m'bar'\u001b[0m\u001b[1;33m:\u001b[0m\u001b[1;36m100\u001b[0m\u001b[1;33m}\u001b[0m\u001b[1;33m\u001b[0m\u001b[1;33m\u001b[0m\u001b[0m\n\u001b[1;32m----> 2\u001b[1;33m \u001b[0mspam\u001b[0m\u001b[1;33m[\u001b[0m\u001b[1;34m'foo'\u001b[0m\u001b[1;33m]\u001b[0m\u001b[1;33m\u001b[0m\u001b[1;33m\u001b[0m\u001b[0m\n\u001b[0m",
      "\u001b[1;31mKeyError\u001b[0m: 'foo'"
     ]
    }
   ],
   "source": [
    "spam = {'bar':100}\n",
    "spam['foo']"
   ]
  },
  {
   "cell_type": "markdown",
   "id": "18b4d30e",
   "metadata": {},
   "source": [
    "#### 5. 'cat' in spam and 'cat' in spam.keys() have no difference. 'cat' in spam also checks whether the element exists as a key in the dictionary."
   ]
  },
  {
   "cell_type": "markdown",
   "id": "78876be1",
   "metadata": {},
   "source": [
    "#### 6. `'cat' in spam` will check for 'cat' string as a key in dictionary spam whereas `'cat' in spam.values()` will check for 'cat' string as a value in dictionary spam."
   ]
  },
  {
   "cell_type": "markdown",
   "id": "79e3048d",
   "metadata": {},
   "source": [
    "#### 7.  spam.setdefault('color','black')"
   ]
  },
  {
   "cell_type": "code",
   "execution_count": 4,
   "id": "1c4813a7",
   "metadata": {},
   "outputs": [
    {
     "data": {
      "text/plain": [
       "{'name': 'ineuron', 6: 3.5, True: 44, 'color': 'black'}"
      ]
     },
     "execution_count": 4,
     "metadata": {},
     "output_type": "execute_result"
    }
   ],
   "source": [
    "spam = {'name': 'ineuron', 6: 3.5, True: 44}\n",
    "spam.setdefault('color','black')\n",
    "spam"
   ]
  },
  {
   "cell_type": "markdown",
   "id": "2daec491",
   "metadata": {},
   "source": [
    "#### 8. 'pretty print' is used to make the dictionary output more readable. We can use `pprint()`, `json.dumps()` and `yaml.dump()` for this purpose."
   ]
  }
 ],
 "metadata": {
  "kernelspec": {
   "display_name": "Python 3",
   "language": "python",
   "name": "python3"
  },
  "language_info": {
   "codemirror_mode": {
    "name": "ipython",
    "version": 3
   },
   "file_extension": ".py",
   "mimetype": "text/x-python",
   "name": "python",
   "nbconvert_exporter": "python",
   "pygments_lexer": "ipython3",
   "version": "3.8.8"
  }
 },
 "nbformat": 4,
 "nbformat_minor": 5
}
