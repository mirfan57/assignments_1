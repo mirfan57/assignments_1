{
 "cells": [
  {
   "cell_type": "markdown",
   "id": "c501043d",
   "metadata": {},
   "source": [
    "### Assignment 17"
   ]
  },
  {
   "cell_type": "markdown",
   "id": "138e2b14",
   "metadata": {},
   "source": [
    "##### 1."
   ]
  },
  {
   "cell_type": "code",
   "execution_count": 1,
   "id": "542d856c",
   "metadata": {},
   "outputs": [
    {
     "name": "stdout",
     "output_type": "stream",
     "text": [
      "Just Right\n"
     ]
    }
   ],
   "source": [
    "guess_me = 7\n",
    "\n",
    "if guess_me < 7:\n",
    "    print(\"Too Low\")\n",
    "elif guess_me > 7:\n",
    "    print(\"Too High\")\n",
    "else:\n",
    "    print(\"Just Right\")"
   ]
  },
  {
   "cell_type": "markdown",
   "id": "920cd62f",
   "metadata": {},
   "source": [
    "##### 2."
   ]
  },
  {
   "cell_type": "code",
   "execution_count": 7,
   "id": "b36057a4",
   "metadata": {},
   "outputs": [
    {
     "name": "stdout",
     "output_type": "stream",
     "text": [
      "too low\n",
      "too low\n",
      "too low\n",
      "too low\n",
      "too low\n",
      "too low\n",
      "found it!\n"
     ]
    }
   ],
   "source": [
    "guess_me = 7\n",
    "start = 1\n",
    "\n",
    "while True:\n",
    "    if start < guess_me:\n",
    "        print(\"too low\")\n",
    "    elif start == guess_me:\n",
    "        print(\"found it!\")\n",
    "        break\n",
    "    else:\n",
    "        print('oops')\n",
    "        break\n",
    "    start += 1"
   ]
  },
  {
   "cell_type": "markdown",
   "id": "37c9dfbf",
   "metadata": {},
   "source": [
    "##### 3."
   ]
  },
  {
   "cell_type": "code",
   "execution_count": 9,
   "id": "6972da19",
   "metadata": {},
   "outputs": [
    {
     "data": {
      "text/plain": [
       "[3, 2, 1, 0]"
      ]
     },
     "execution_count": 9,
     "metadata": {},
     "output_type": "execute_result"
    }
   ],
   "source": [
    "my_list = []\n",
    "for i in range(3,-1,-1):\n",
    "    my_list.append(i)\n",
    "my_list"
   ]
  },
  {
   "cell_type": "markdown",
   "id": "291cd642",
   "metadata": {},
   "source": [
    "##### 4."
   ]
  },
  {
   "cell_type": "code",
   "execution_count": 11,
   "id": "f8ad97b4",
   "metadata": {},
   "outputs": [
    {
     "data": {
      "text/plain": [
       "[0, 2, 4, 6, 8]"
      ]
     },
     "execution_count": 11,
     "metadata": {},
     "output_type": "execute_result"
    }
   ],
   "source": [
    "[i for i in range(10) if i%2 == 0]"
   ]
  },
  {
   "cell_type": "markdown",
   "id": "72671911",
   "metadata": {},
   "source": [
    "##### 5."
   ]
  },
  {
   "cell_type": "code",
   "execution_count": 13,
   "id": "d94f2b40",
   "metadata": {},
   "outputs": [
    {
     "name": "stdout",
     "output_type": "stream",
     "text": [
      "{0: 0, 1: 1, 2: 4, 3: 9, 4: 16, 5: 25, 6: 36, 7: 49, 8: 64, 9: 81}\n"
     ]
    }
   ],
   "source": [
    "myDict = {x: x**2 for x in range(10)}\n",
    "print (myDict)"
   ]
  },
  {
   "cell_type": "markdown",
   "id": "84f502e3",
   "metadata": {},
   "source": [
    "##### 6."
   ]
  },
  {
   "cell_type": "code",
   "execution_count": 15,
   "id": "a30d2dc1",
   "metadata": {},
   "outputs": [
    {
     "name": "stdout",
     "output_type": "stream",
     "text": [
      "{1, 3, 5, 7, 9}\n"
     ]
    }
   ],
   "source": [
    "setOdd = {y for y in range(10) if y%2 != 0}\n",
    "print(setOdd)"
   ]
  },
  {
   "cell_type": "markdown",
   "id": "82606b09",
   "metadata": {},
   "source": [
    "##### 7."
   ]
  },
  {
   "cell_type": "code",
   "execution_count": 23,
   "id": "542e57c4",
   "metadata": {},
   "outputs": [
    {
     "name": "stdout",
     "output_type": "stream",
     "text": [
      "got0 got1 got2 got3 got4 got5 got6 got7 got8 got9 "
     ]
    }
   ],
   "source": [
    "gen = ('got'+str(i) for i in range(10))\n",
    "for i in gen:\n",
    "    print(i, end=' ')"
   ]
  },
  {
   "cell_type": "markdown",
   "id": "7ae5dd1b",
   "metadata": {},
   "source": [
    "##### 8."
   ]
  },
  {
   "cell_type": "code",
   "execution_count": 25,
   "id": "a71930a6",
   "metadata": {},
   "outputs": [
    {
     "data": {
      "text/plain": [
       "['Harry', 'Ron', 'Hermione']"
      ]
     },
     "execution_count": 25,
     "metadata": {},
     "output_type": "execute_result"
    }
   ],
   "source": [
    "def good():\n",
    "    l = []\n",
    "    l.append('Harry')\n",
    "    l.append('Ron')\n",
    "    l.append('Hermione')\n",
    "    return l\n",
    "good()"
   ]
  },
  {
   "cell_type": "markdown",
   "id": "f0d2d063",
   "metadata": {},
   "source": [
    "##### 9."
   ]
  },
  {
   "cell_type": "code",
   "execution_count": 29,
   "id": "42820f60",
   "metadata": {},
   "outputs": [
    {
     "data": {
      "text/plain": [
       "5"
      ]
     },
     "execution_count": 29,
     "metadata": {},
     "output_type": "execute_result"
    }
   ],
   "source": [
    "def get_odds():\n",
    "    my_list = []\n",
    "    for i in range(10):\n",
    "        if i%2 != 0:\n",
    "            my_list.append(i)\n",
    "    yield my_list\n",
    "\n",
    "next(get_odds())[2]"
   ]
  },
  {
   "cell_type": "markdown",
   "id": "8d94a7b3",
   "metadata": {},
   "source": [
    "##### 10."
   ]
  },
  {
   "cell_type": "code",
   "execution_count": 39,
   "id": "d486e9ed",
   "metadata": {},
   "outputs": [
    {
     "name": "stdout",
     "output_type": "stream",
     "text": [
      "Caught an oops name 'b' is not defined\n"
     ]
    }
   ],
   "source": [
    "def OopsException():\n",
    "    pass\n",
    "\n",
    "def test(a):\n",
    "    if a - 2 > 0:\n",
    "        raise OopsException(b)\n",
    "try:\n",
    "    test(10)\n",
    "except Exception as e:\n",
    "    print('Caught an oops',e)"
   ]
  },
  {
   "cell_type": "markdown",
   "id": "52d141dc",
   "metadata": {},
   "source": [
    "##### 11."
   ]
  },
  {
   "cell_type": "code",
   "execution_count": 30,
   "id": "5e5b75fd",
   "metadata": {},
   "outputs": [
    {
     "name": "stdout",
     "output_type": "stream",
     "text": [
      "{'Creature of Habit': 'A nun turns into a monster', 'Crewel Fate': 'A haunted yarn shop'}\n"
     ]
    }
   ],
   "source": [
    "titles = ['Creature of Habit', 'Crewel Fate']\n",
    "plots = ['A nun turns into a monster', 'A haunted yarn shop']\n",
    "output = dict(zip(titles,plots))\n",
    "print(output)"
   ]
  }
 ],
 "metadata": {
  "kernelspec": {
   "display_name": "Python 3",
   "language": "python",
   "name": "python3"
  },
  "language_info": {
   "codemirror_mode": {
    "name": "ipython",
    "version": 3
   },
   "file_extension": ".py",
   "mimetype": "text/x-python",
   "name": "python",
   "nbconvert_exporter": "python",
   "pygments_lexer": "ipython3",
   "version": "3.8.8"
  }
 },
 "nbformat": 4,
 "nbformat_minor": 5
}
